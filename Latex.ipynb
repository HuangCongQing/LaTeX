{
 "cells": [
  {
   "cell_type": "markdown",
   "metadata": {},
   "source": [
    "# Latex学习\n",
    "LaTeX数学公式用**$$**括起来。\n",
    "\n",
    "\n",
    "学习网站：\n",
    "* https://blog.csdn.net/qq_39232265/article/details/78868487\n",
    "* https://blog.csdn.net/halazi100/article/details/79706172"
   ]
  },
  {
   "cell_type": "markdown",
   "metadata": {},
   "source": [
    "* 数学公式的前后要加上 $ \n",
    "\n",
    "`$f(x) = 3x + 7$`\n",
    "\n",
    "\n",
    "\n",
    "$f(x) = 3x + 7$\n"
   ]
  },
  {
   "cell_type": "markdown",
   "metadata": {},
   "source": [
    "*  上标和下标\n",
    "*  用 ^ 来表示上标，用 _ 来表示下标\n",
    "* 如果有多个字符做上标或下标，要用{}括起来\n",
    "$\\sum_{i=1}^n a_i=0$\n",
    "\n",
    "\n",
    "\n",
    "`L_2Loss = \\sum_{(x,y)\\in D} (y - prediction(x))^2`\n",
    "\n",
    "$L_2Loss = \\sum_{(x,y)\\in D} (y - prediction(x))^2$\n",
    "\n",
    "\n",
    "\n",
    "$\\sum_{i=1}^n a_i=0$\n",
    "\n",
    "\n",
    "\n"
   ]
  },
  {
   "cell_type": "markdown",
   "metadata": {},
   "source": [
    "分子分母`\\frac{a}{b}`\n",
    "\n",
    "$\\frac{a}{b}$"
   ]
  },
  {
   "cell_type": "markdown",
   "metadata": {},
   "source": [
    "平方`x^x`\n",
    "\n",
    "$f(x)=x^{x^x}$"
   ]
  },
  {
   "cell_type": "markdown",
   "metadata": {},
   "source": [
    "希腊字母\n",
    "\n",
    "\n",
    "大写希腊字母`\\Gamma \\Delta \\Theta \\Lambda \\Xi \\Pi \\Sigma \\Upsilon\n",
    "\\alpha \\beta \\gamma \\delta \\epsilon \\varepsilon \\zeta \\eta`\n",
    "\n",
    "\n",
    "$\\Gamma \\Delta \\Theta \\Lambda \\Xi \\Pi \\Sigma \\Upsilon$\n",
    "\n",
    "小写希腊字母\n",
    "`\\alpha \\beta \\gamma \\delta \\epsilon \\varepsilon \\zeta \\eta`\n",
    "\n",
    "$\\alpha \\beta \\gamma \\delta \\epsilon \\varepsilon \\zeta \\eta$\n",
    "\n",
    "`\\theta \\vartheta \\iota \\kappa \\lambda \\mu \\nu \\xi`\n",
    "\n",
    "$\\theta \\vartheta \\iota \\kappa \\lambda \\mu \\nu \\xi$\n",
    "\n",
    "`o\\pi \\varpi \\rho \\varrho \\sigma \\varsigma \\tau`\n",
    "\n",
    "$o \\pi \\varpi \\rho \\varrho \\sigma \\varsigma \\tau$\n",
    "\n",
    "\n",
    "`\\upsilon \\phi \\varphi \\chi \\psi \\omega`\n",
    "\n",
    "\n",
    "$\\upsilon \\phi \\varphi \\chi \\psi \\omega$\n",
    "\n"
   ]
  },
  {
   "cell_type": "markdown",
   "metadata": {},
   "source": [
    "大尺寸运算符\n",
    "\n",
    "`\\sum \\prod \\coprod \\int \\iint \\iiint \\oint`\n",
    "\n",
    "\"$\\sum \\prod \\coprod \\int \\iint \\iiint \\oint$"
   ]
  },
  {
   "cell_type": "markdown",
   "metadata": {},
   "source": [
    "箭头\n",
    "\n",
    "`\\leftarrow \\rightarrow \\Leftarrow \\Rightarrow \\uparrow \\downarrow\\iff \\rightleftharpoons`\n",
    "\n",
    "$\\leftarrow \\rightarrow \\Leftarrow \\Rightarrow \\uparrow \\downarrow\\leadsto\\iff \\rightleftharpoons$"
   ]
  },
  {
   "cell_type": "markdown",
   "metadata": {},
   "source": [
    "在公式中插入文本可以通过 \\mbox{text} 在公式中添加text\n",
    "\n",
    "\n",
    "`$\\mbox{对任意的$x>0$}, \\mbox{有 }f(x)>0. $`\n",
    "\n",
    "$\\mbox{对任意的$x>0$}, \\mbox{有 }f(x)>0. $"
   ]
  },
  {
   "cell_type": "markdown",
   "metadata": {},
   "source": []
  },
  {
   "cell_type": "markdown",
   "metadata": {},
   "source": [
    "分数及开方\n",
    "*  \\frac{numerator}{denominator} \n",
    "* \\sqrt{expression_r_r_r}表示开平方，\n",
    "*  \\sqrt[n]{expression_r_r_r} 表示开 n 次方\n",
    "\n",
    "`\\frac{7x+5}{1+y^2} \\sqrt{x^2+y^2} \\sqrt[n]{x^n+y^n}`\n",
    "\n",
    "$\\frac{7x+5}{1+y^2} \\sqrt{x^2+y^2} \\sqrt[n]{x^n+y^n}$\n"
   ]
  },
  {
   "cell_type": "markdown",
   "metadata": {},
   "source": [
    "省略号（3个点）\n",
    " \\ldots 表示跟文本底线对齐的省略号；\\cdots 表示跟文本中线对齐的省略号\n",
    " \n",
    "`f(x_1,x_x,\\ldots,x_n)=x_1^2+x_2^2+\\cdots+x_n^2 `\n",
    " \n",
    "$ f(x_1,x_x,\\ldots,x_n)=x_1^2+x_2^2+\\cdots+x_n^2 $"
   ]
  },
  {
   "cell_type": "markdown",
   "metadata": {},
   "source": [
    "\n",
    "*  括号和分隔符\n",
    "* () 和 [ ] 和 ｜ 对应于自己；\n",
    "* {} 对应于 \\{ \\}；\n",
    "* || 对应于 \\|。\n",
    "* 当要显示大号的括号或分隔符时，要对应用 \\left 和 \\right\n",
    "\n",
    "\n",
    "`f(x,y,z)=3y^2z\\left3+\\frac{7x+5}{1+y^2}\\right)`\n",
    "\n",
    "\n",
    "$f(x,y,z)=3y^2z\\left(3+\\frac{7x+5}{1+y^2}\\right) $\n",
    "\n",
    "\n"
   ]
  },
  {
   "cell_type": "markdown",
   "metadata": {},
   "source": [
    "*  \\left. 和 \\right. 只用与匹配，本身是不显示的\n",
    "\n",
    "```\n",
    "\\left. \\frac{du}{dx} \\right|_{x=0}\n",
    "```\n",
    "$\\left. \\frac{du}{dx} \\right|_{x=0}$\n",
    "\n",
    "\\frac{du}{dx} |_{x=0}\n",
    "\n",
    "$\\frac{du}{dx} |_{x=0}$\n",
    "\n"
   ]
  },
  {
   "cell_type": "markdown",
   "metadata": {},
   "source": [
    "多行的数学公式\n",
    "* 其中&是对其点，表示在此对齐。\n",
    "* 使latex不自动显示序号，如果想让latex自动标上序号，则把 * 去掉\n",
    "\n",
    "```\n",
    "\\begin{eqnarray*}\n",
    "\\cos 2\\theta & = & \\cos^2 \\theta - \\sin^2 \\theta \\\\\n",
    "& = & 2 \\cos^2 \\theta - 1.\n",
    "\\end{eqnarray*}\n",
    "```\n",
    "\n",
    "\\begin{eqnarray*}\n",
    "\\cos 2\\theta & = & \\cos^2 \\theta - \\sin^2 \\theta \\\\\n",
    "& = & 2 \\cos^2 \\theta - 1.\n",
    "\\end{eqnarray*}"
   ]
  },
  {
   "cell_type": "markdown",
   "metadata": {},
   "source": [
    "* 矩阵\n",
    "* c表示向中对齐，l表示向左对齐，r表示向右对齐\n",
    "\n",
    "```\n",
    "\n",
    "$3 \\times 3$\n",
    " \\begin{array}{ccc}\n",
    "a & b & c \\\\\n",
    "d & e & f \\\\\n",
    "g & h & i \\end{array}\n",
    "\n",
    "\\begin{array}{ccc}\n",
    "\\lambda - a & -b & -c \\\\\n",
    "-d & \\lambda - e & -f \\\\\n",
    "-g & -h & \\lambda - i \\end{array} \n",
    "\n",
    "```\n",
    "\n",
    "$3 \\times 3$\n",
    " \\begin{array}{ccc}\n",
    "a & b & c \\\\\n",
    "d & e & f \\\\\n",
    "g & h & i \\end{array}\n",
    "\n",
    "\n",
    "\n",
    "\n",
    "\\begin{array}{ccc}\n",
    "\\lambda - a & -b & -c \\\\\n",
    "-d & \\lambda - e & -f \\\\\n",
    "-g & -h & \\lambda - i \\end{array} "
   ]
  },
  {
   "cell_type": "markdown",
   "metadata": {},
   "source": [
    "* 导数、极限、求和、积分\n",
    "\n",
    "```\n",
    "\\frac{du}{dt} and \\frac{d^2 u}{dx^2}\n",
    "```\n",
    "$\\frac{du}{dt} and \\frac{d^2 u}{dx^2}$"
   ]
  },
  {
   "cell_type": "markdown",
   "metadata": {},
   "source": [
    "* 偏导数\n",
    "\n",
    "```\n",
    "\\frac{\\partial u}{\\partial t}\n",
    "= h^2 \\left( \\frac{\\partial^2 u}{\\partial x^2}\n",
    "+ \\frac{\\partial^2 u}{\\partial y^2}\n",
    "+ \\frac{\\partial^2 u}{\\partial z^2}\\right)\n",
    "```\n",
    "$ \\frac{\\partial u}{\\partial t}\n",
    "= h^2 \\left( \\frac{\\partial^2 u}{\\partial x^2}\n",
    "+ \\frac{\\partial^2 u}{\\partial y^2}\n",
    "+ \\frac{\\partial^2 u}{\\partial z^2}\\right)$"
   ]
  },
  {
   "cell_type": "markdown",
   "metadata": {},
   "source": [
    "* 极限\n",
    "\n",
    "$\\lim_{x \\to +\\infty}, \\inf_{x > s}$\n",
    "\n",
    "`\\lim_{x \\to 0} \\frac{3x^2 +7x^3}{x^2 +5x^4} = 3`\n",
    "\n",
    "\n",
    "$\\lim_{x \\to 0} \\frac{3x^2 +7x^3}{x^2 +5x^4} = 3$\n",
    "\n"
   ]
  },
  {
   "cell_type": "markdown",
   "metadata": {},
   "source": [
    "* 求和\n",
    "\n",
    "```\n",
    "$\\sum_{k=1}^n k^2 = \\frac{1}{2} n (n+1)$\n",
    "```\n",
    "\n",
    "$\\sum_{k=1}^n k^2 = \\frac{1}{2} n (n+1)$"
   ]
  },
  {
   "cell_type": "markdown",
   "metadata": {},
   "source": [
    "* 积分\n",
    "\n",
    "\n",
    "```\n",
    "\\int_a^b f(x)\\,dx\n",
    "```\n",
    "\n",
    "$\\int_a^b f(x)\\,dx$\n",
    "\n"
   ]
  },
  {
   "cell_type": "markdown",
   "metadata": {},
   "source": [
    "```\n",
    "$\\int_0^{+\\infty} x^n e^{-x} \\,dx = n!$\n",
    "```\n",
    "\n",
    "\n",
    "$\\int_0^{+\\infty} x^n e^{-x} \\,dx = n!$"
   ]
  },
  {
   "cell_type": "markdown",
   "metadata": {},
   "source": [
    "```\n",
    "$\\int \\cos \\theta \\,d\\theta = \\sin \\theta$\n",
    "\n",
    "```\n",
    "\n",
    "\n",
    "\n",
    "$\\int \\cos \\theta \\,d\\theta = \\sin \\theta$"
   ]
  },
  {
   "cell_type": "markdown",
   "metadata": {},
   "source": [
    "```\n",
    "\n",
    "$\\int_{x^2 + y^2 \\leq R^2} f(x,y)\\,dx\\,dy\n",
    "= \\int_{\\theta=0}^{2\\pi} \\int_{r=0}^R\n",
    "f(r\\cos\\theta,r\\sin\\theta) r\\,dr\\,d\\theta$\n",
    "\n",
    "\n",
    "```\n",
    "\n",
    "\n",
    "\n",
    "$\\int_{x^2 + y^2 \\leq R^2} f(x,y)\\,dx\\,dy\n",
    "= \\int_{\\theta=0}^{2\\pi} \\int_{r=0}^R\n",
    "f(r\\cos\\theta,r\\sin\\theta) r\\,dr\\,d\\theta$\n",
    "\n",
    "\n",
    "\n"
   ]
  },
  {
   "cell_type": "markdown",
   "metadata": {},
   "source": [
    "```\n",
    "\n",
    "$\\int_0^R \\frac{2x\\,dx}{1+x^2} = \\log(1+R^2)$\n",
    "\n",
    "```\n",
    "\n",
    "$\\int_0^R \\frac{2x\\,dx}{1+x^2} = \\log(1+R^2)$"
   ]
  },
  {
   "cell_type": "markdown",
   "metadata": {},
   "source": [
    "```\n",
    "$\\int_0^1 \\! \\int_0^1 x^2 y^2\\,dx\\,dy.$\n",
    "```\n",
    "\n",
    "$\\int_0^1 \\! \\int_0^1 x^2 y^2\\,dx\\,dy.$"
   ]
  },
  {
   "cell_type": "markdown",
   "metadata": {},
   "source": [
    "```\n",
    "$\\int_0^1 \\int_0^1 x^2 y^2\\,dx\\,dy.$\n",
    "```\n",
    "\n",
    "$\\int_0^1 \\int_0^1 x^2 y^2\\,dx\\,dy.$"
   ]
  },
  {
   "cell_type": "markdown",
   "metadata": {},
   "source": []
  },
  {
   "cell_type": "markdown",
   "metadata": {},
   "source": []
  },
  {
   "cell_type": "markdown",
   "metadata": {},
   "source": []
  },
  {
   "cell_type": "markdown",
   "metadata": {},
   "source": []
  }
 ],
 "metadata": {
  "kernelspec": {
   "display_name": "Python 3",
   "language": "python",
   "name": "python3"
  },
  "language_info": {
   "codemirror_mode": {
    "name": "ipython",
    "version": 3
   },
   "file_extension": ".py",
   "mimetype": "text/x-python",
   "name": "python",
   "nbconvert_exporter": "python",
   "pygments_lexer": "ipython3",
   "version": "3.5.4"
  }
 },
 "nbformat": 4,
 "nbformat_minor": 2
}
